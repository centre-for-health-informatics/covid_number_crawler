{
 "cells": [
  {
   "cell_type": "code",
   "execution_count": 1,
   "metadata": {},
   "outputs": [],
   "source": [
    "from bs4 import BeautifulSoup\n",
    "import urllib.request\n",
    "import re\n",
    "import requests\n",
    "import numpy as np\n",
    "import spacy\n",
    "import time\n",
    "import datetime\n",
    "nlp = spacy.load('en')"
   ]
  },
  {
   "cell_type": "code",
   "execution_count": 45,
   "metadata": {},
   "outputs": [],
   "source": [
    "def match_num(text):\n",
    "    number_words = ['one', 'two', 'three', 'four', 'five', 'six', 'seven', 'eight', 'nine', 'ten', 'eleven', 'twelve', 'thirteen', 'fourteen', 'fifteen', 'sixteen', 'seventeen', 'eighteen', 'nineteen', 'twenty', 'thirty', 'forty', 'fifty', 'sixty', 'seventy', 'eighty', 'ninety', 'hundred','hundreds', 'thousand','thousands']\n",
    "    text = text.replace('COVID-19',' ')\n",
    "    has_digit = re.search('\\d+',text)\n",
    "    if not has_digit:\n",
    "        for word in number_words:\n",
    "            pattern = ' ' + word + ' '\n",
    "            if re.search(pattern,text):\n",
    "                has_digit = True\n",
    "                break\n",
    "    return has_digit\n",
    "    "
   ]
  },
  {
   "cell_type": "code",
   "execution_count": 46,
   "metadata": {},
   "outputs": [],
   "source": [
    "def get_links():\n",
    "    resp = urllib.request.urlopen(\"https://globalnews.ca/?s=alberta+coronavirus\")\n",
    "    soup = BeautifulSoup(resp, from_encoding=resp.info().get_param('charset'))\n",
    "    link_list = []\n",
    "    pattern = 'https://globalnews.ca/news/\\d+/.*/$'\n",
    "    for link in soup.find_all('a', href=True):\n",
    "        if re.match(pattern,link['href']):\n",
    "            link_list.append(link['href'])\n",
    "        link_set = set(link_list)\n",
    "    unique_link_list = list(link_set)\n",
    "    return unique_link_list"
   ]
  },
  {
   "cell_type": "code",
   "execution_count": 49,
   "metadata": {
    "scrolled": true
   },
   "outputs": [],
   "source": [
    "def show_sents(unique_link_list):\n",
    "    for link in unique_link_list:\n",
    "        time.sleep(1)\n",
    "        article = requests.get(link)\n",
    "        article_content = article.content\n",
    "        soup_article = BeautifulSoup(article_content, 'html.parser')\n",
    "        # Show date\n",
    "        post_time =soup_article.find_all('div', class_='c-byline__date')\n",
    "        date =[]\n",
    "        for t in post_time:\n",
    "            date.append(t.get_text())\n",
    "        # Show number related phrase\n",
    "        body = soup_article.find_all('div')#, class_='l-article__part'\n",
    "        x = body[0].find_all('p')\n",
    "        news_contents = ''\n",
    "        # Unifying the paragraphs\n",
    "        list_paragraphs = []\n",
    "        for p in np.arange(0, len(x)):\n",
    "            paragraph = x[p].get_text()\n",
    "            if not 'read more' in  paragraph.lower():\n",
    "                list_paragraphs.append(paragraph)\n",
    "            final_article = \" \".join(list_paragraphs)\n",
    "        spacy_doc = nlp(final_article)\n",
    "        related_text = \"\"\n",
    "        for sent in spacy_doc.sents:\n",
    "            if 'case' in sent.text and 'new' in sent.text:\n",
    "                if match_num(sent.text):\n",
    "                    clean_text = sent.text.replace('\\n',' ')\n",
    "                    clean_text = clean_text.replace('\\t','')\n",
    "                    related_text =related_text + clean_text + '\\n'\n",
    "        if related_text:\n",
    "            print('Title: ' + soup_article.title.get_text())\n",
    "            print(date)\n",
    "            print('Phrases: ')\n",
    "            print(related_text)"
   ]
  },
  {
   "cell_type": "code",
   "execution_count": null,
   "metadata": {},
   "outputs": [
    {
     "name": "stdout",
     "output_type": "stream",
     "text": [
      "2020-03-17 23:04:24.584429\n",
      "Title: Confirmed coronavirus cases in Alberta reach 39; 2 patients in intensive care  | Globalnews.ca\n",
      "['Posted March 14, 2020 6:20 pm', 'Updated March 15, 2020 7:23 pm']\n",
      "Phrases: \n",
      "Alberta Health confirmed Saturday afternoon that there are 10 new cases of COVID-19 in the province, bringing the total to 39.\n",
      "Six of the new cases are in the Calgary zone and four are in the Edmonton zone, Alberta Health said.\n",
      "Two of the new cases — one in the Edmonton zone and one in the Calgary zone — have been admitted into intensive care, according to Alberta Health.\n",
      "Alberta Health said eight of the new cases are related to international travel or to a previously confirmed case, adding that the other two cases are being investigated.\n",
      "\n",
      "Title: Coronavirus cases in Alberta and B.C. are linked. What does that mean for further spread?  | Globalnews.ca\n",
      "['Posted March 8, 2020 4:38 pm', 'Updated March 8, 2020 4:44 pm']\n",
      "Phrases: \n",
      "B.C.’s Ministry of Health confirmed Sunday that the B.C. case is one of six new cases announced in the province Saturday.\n",
      "\n",
      "Title: Alberta’s 2nd presumptive case of coronavirus is in Edmonton; Calgary closes 2 ATB branches  | Globalnews.ca\n",
      "['Posted March 6, 2020 7:43 pm', 'Updated March 7, 2020 7:26 pm']\n",
      "Phrases: \n",
      "Alberta’s chief medical health officer, Dr. Deena Hinshaw, said at a news conference Friday that the second case is connected to a man in his 40s from Edmonton who just returned from a trip to the U.S. “\n",
      "\n",
      "Title: Alberta now has 14 confirmed coronavirus cases, all travel-related: official  | Globalnews.ca\n",
      "['Posted March 10, 2020 6:10 pm', 'Updated March 11, 2020 5:58 pm']\n",
      "Phrases: \n",
      "The new confirmed cases of COVID-19 involve three new patients in the Edmonton Zone and four new patients in the Calgary Zone.\n",
      "\n",
      "Title: Coronavirus: 29 confirmed cases in Alberta; school closures not recommended at this time  | Globalnews.ca\n",
      "['Posted March 13, 2020 6:52 pm', 'Updated March 14, 2020 6:00 pm']\n",
      "Phrases: \n",
      "Alberta Health announced six new confirmed cases of COVID-19 in the province in the last 24 hours, bringing the total to 29 as of Friday.\n",
      "\n",
      "Title: 7 confirmed cases of COVID-19 in Alberta: health officials  | Globalnews.ca\n",
      "['Posted March 9, 2020 12:00 pm', 'Updated March 10, 2020 6:03 pm']\n",
      "Phrases: \n",
      "Alberta has recorded three new cases of the novel coronavirus, provincial health officials confirmed Monday morning.\n",
      "\n",
      "Title: Alberta coronavirus cases jump to 19, one patient visited Edmonton hospital before testing positive  | Globalnews.ca\n",
      "['Posted March 11, 2020 6:08 pm', 'Updated March 12, 2020 6:27 pm']\n",
      "Phrases: \n",
      "Dr. Deena Hinshaw said at a news conference that five new cases have been confirmed, but all are tied to individuals who had recently travelled.\n",
      "One of the new confirmed cases is a man in his 30s in Edmonton who returned from international travel and started experiencing symptoms a number of days after he returned.\n",
      "The other new cases involve a man in his 20s and two women in their 30s in the Calgary zone, as well as a woman in her 30s in the Central Zone.\n",
      "All five new cases had returned from international travel, including to Iran, Egypt, Spain, Mexico and the U.S.\n",
      "\n",
      "Title: Confirmed coronavirus cases in Alberta rise to 23, officials urge cancellation of large gatherings  | Globalnews.ca\n",
      "['Posted March 12, 2020 6:11 pm', 'Updated March 13, 2020 6:59 pm']\n",
      "Phrases: \n",
      "The government said all four of Alberta’s new confirmed coronavirus cases are “travel-related.\n",
      "\n"
     ]
    }
   ],
   "source": [
    "prev_set = set()\n",
    "while True:\n",
    "    unique_link_list = get_links()\n",
    "    new_link = list(set(unique_link_list).difference(prev_set))\n",
    "    if new_link:\n",
    "        print(datetime.datetime.now())\n",
    "        show_sents(new_link)\n",
    "    prev_set = set(unique_link_list)\n",
    "    time.sleep(3600)"
   ]
  },
  {
   "cell_type": "raw",
   "metadata": {},
   "source": []
  }
 ],
 "metadata": {
  "kernelspec": {
   "display_name": "Python 3",
   "language": "python",
   "name": "python3"
  }
 },
 "nbformat": 4,
 "nbformat_minor": 2
}
